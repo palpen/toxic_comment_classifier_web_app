{
 "cells": [
  {
   "cell_type": "code",
   "execution_count": 2,
   "metadata": {},
   "outputs": [],
   "source": [
    "from sklearn.externals import joblib\n",
    "\n",
    "\n",
    "import re, string\n",
    "def tokenize(s):\n",
    "    regex = re.compile('[%s]' % re.escape(string.punctuation))\n",
    "    out = regex.sub(' ', s).split()\n",
    "    return out\n",
    "\n",
    "models_directory = 'models'\n",
    "tfidf_model = joblib.load('{}/tfidf_vectorizer_train.pkl'.format(models_directory))"
   ]
  },
  {
   "cell_type": "code",
   "execution_count": null,
   "metadata": {
    "collapsed": true
   },
   "outputs": [],
   "source": []
  }
 ],
 "metadata": {
  "kernelspec": {
   "display_name": "Python 3",
   "language": "python",
   "name": "python3"
  },
  "language_info": {
   "codemirror_mode": {
    "name": "ipython",
    "version": 3
   },
   "file_extension": ".py",
   "mimetype": "text/x-python",
   "name": "python",
   "nbconvert_exporter": "python",
   "pygments_lexer": "ipython3",
   "version": "3.6.1"
  }
 },
 "nbformat": 4,
 "nbformat_minor": 2
}
